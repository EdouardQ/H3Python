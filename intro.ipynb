{
 "cells": [
  {
   "cell_type": "code",
   "execution_count": 40,
   "metadata": {
    "pycharm": {
     "name": "#%%\n"
    }
   },
   "outputs": [
    {
     "name": "stdout",
     "output_type": "stream",
     "text": [
      "positif\n"
     ]
    }
   ],
   "source": [
    "def condition_et_produit(x: int, y: int) -> str:\n",
    "    if not isinstance(x, int) or not isinstance(y, int):\n",
    "        return \"error input\"\n",
    "\n",
    "    if (x < 0 and y > 0) or (x > 0 and y < 0):\n",
    "        return \"negatif\"\n",
    "\n",
    "    return \"positif\"\n",
    "\n",
    "print(condition_et_produit(-5,-5))"
   ]
  },
  {
   "cell_type": "code",
   "execution_count": 41,
   "metadata": {
    "pycharm": {
     "name": "#%%\n"
    }
   },
   "outputs": [
    {
     "name": "stdout",
     "output_type": "stream",
     "text": [
      "15\n"
     ]
    }
   ],
   "source": [
    "def additivte(n: int) -> int:\n",
    "    if not isinstance(n, int):\n",
    "        return 0\n",
    "    result = 0\n",
    "    for i in range(1, n+1, 1):\n",
    "        result += i\n",
    "\n",
    "    return result\n",
    "\n",
    "print(additivte(5))"
   ]
  },
  {
   "cell_type": "code",
   "execution_count": 42,
   "metadata": {
    "pycharm": {
     "name": "#%%\n"
    }
   },
   "outputs": [
    {
     "name": "stdout",
     "output_type": "stream",
     "text": [
      "11\n"
     ]
    }
   ],
   "source": [
    "def somme_elements_tableau(tab: list) -> int:\n",
    "    result = 0\n",
    "    for i in tab:\n",
    "        result += i\n",
    "\n",
    "    return result\n",
    "\n",
    "print(somme_elements_tableau([1,5,5]))"
   ]
  },
  {
   "cell_type": "code",
   "execution_count": 43,
   "metadata": {
    "pycharm": {
     "name": "#%%\n"
    }
   },
   "outputs": [
    {
     "name": "stdout",
     "output_type": "stream",
     "text": [
      "231\n"
     ]
    }
   ],
   "source": [
    "def facproduct(tab1: list, tab2: list) -> int:\n",
    "    result = 0\n",
    "    for x in tab1:\n",
    "        for y in tab2:\n",
    "            result += x*y\n",
    "\n",
    "    return result\n",
    "\n",
    "print(facproduct([1,2,8], [8,9,4]))"
   ]
  },
  {
   "cell_type": "code",
   "execution_count": 44,
   "metadata": {
    "pycharm": {
     "name": "#%%\n"
    }
   },
   "outputs": [
    {
     "name": "stdout",
     "output_type": "stream",
     "text": [
      "(4, 97)\n"
     ]
    }
   ],
   "source": [
    "def plus_grand(tab: list) -> (int, int):\n",
    "    max = 0\n",
    "    index = -1\n",
    "\n",
    "    for i in range(0, len(tab)):\n",
    "        if tab[i] > max:\n",
    "            max = tab[i]\n",
    "            index = i\n",
    "\n",
    "    return (index, max)\n",
    "\n",
    "print(plus_grand([1,8,4,6,97,32]))"
   ]
  },
  {
   "cell_type": "code",
   "execution_count": 45,
   "metadata": {
    "pycharm": {
     "name": "#%%\n"
    }
   },
   "outputs": [
    {
     "name": "stdout",
     "output_type": "stream",
     "text": [
      "2\n"
     ]
    }
   ],
   "source": [
    "def plus_grand_moyen(tab: list) -> int:\n",
    "    moy = 0\n",
    "    nb = 0\n",
    "\n",
    "    for n in tab:\n",
    "        moy += n\n",
    "    moy = moy/len(tab)\n",
    "\n",
    "    for n in tab:\n",
    "        if n > moy:\n",
    "            nb += 1\n",
    "\n",
    "    return nb\n",
    "\n",
    "print(plus_grand_moyen([1,8,4,6,97,32]))"
   ]
  },
  {
   "cell_type": "code",
   "execution_count": 46,
   "metadata": {
    "pycharm": {
     "name": "#%%\n"
    }
   },
   "outputs": [
    {
     "name": "stdout",
     "output_type": "stream",
     "text": [
      "[8, 18, 32]\n"
     ]
    }
   ],
   "source": [
    "def mult_vect(tab1: list, tab2: list) -> list:\n",
    "    result = []\n",
    "\n",
    "    for i in range(0, len(tab1)):\n",
    "        result.append(tab1[i] * tab2[i])\n",
    "\n",
    "    return result\n",
    "\n",
    "print(mult_vect([1,2,8], [8,9,4]))"
   ]
  },
  {
   "cell_type": "code",
   "execution_count": 47,
   "metadata": {
    "pycharm": {
     "name": "#%%\n"
    }
   },
   "outputs": [
    {
     "name": "stdout",
     "output_type": "stream",
     "text": [
      "[1, 3, 5, 9]\n"
     ]
    }
   ],
   "source": [
    "def tris(tab: list) -> list:\n",
    "    sorted_tab = []\n",
    "\n",
    "    while len(tab) > 0:\n",
    "        index = 0\n",
    "        for i in range(0, len(tab)):\n",
    "            if tab[i] < tab[index]:\n",
    "                index = i\n",
    "        sorted_tab.append(tab[index])\n",
    "        tab.pop(index)\n",
    "\n",
    "    return sorted_tab\n",
    "\n",
    "print(tris([5,1,9,3]))"
   ]
  },
  {
   "cell_type": "code",
   "execution_count": 48,
   "metadata": {
    "pycharm": {
     "name": "#%%\n"
    }
   },
   "outputs": [
    {
     "name": "stdout",
     "output_type": "stream",
     "text": [
      "120\n"
     ]
    }
   ],
   "source": [
    "def fact(n: int) -> int:\n",
    "    result = 1\n",
    "    for i in range(1, n+1):\n",
    "        result = result * i\n",
    "\n",
    "    return result\n",
    "\n",
    "print(fact(5))"
   ]
  },
  {
   "cell_type": "code",
   "execution_count": 49,
   "metadata": {
    "pycharm": {
     "name": "#%%\n"
    }
   },
   "outputs": [
    {
     "name": "stdout",
     "output_type": "stream",
     "text": [
      "[[8, 39, 25], [11, 30, 34], [6, 25, 19]]\n"
     ]
    }
   ],
   "source": [
    "def mult_mat(tab1: list, tab2: list) -> list:\n",
    "    result = []\n",
    "    n = len(tab1)\n",
    "    for x in range(n):\n",
    "        array = []\n",
    "        for y in range(n):\n",
    "            calc = 0\n",
    "            for z in range(n):\n",
    "                calc += tab1[x][z] * tab2[z][y]\n",
    "            array.append(calc)\n",
    "        result.append(array)\n",
    "\n",
    "    return result\n",
    "\n",
    "print(mult_mat([[1,2,5], [1,7,3], [1,2,3]], [[1,2,4], [1,1,3], [1,7,3]]))"
   ]
  },
  {
   "cell_type": "code",
   "execution_count": 50,
   "metadata": {
    "pycharm": {
     "name": "#%%\n"
    }
   },
   "outputs": [
    {
     "name": "stdout",
     "output_type": "stream",
     "text": [
      "1\n"
     ]
    }
   ],
   "source": [
    "def fibo(n: int) -> int:\n",
    "    if n <= 1:\n",
    "        return n\n",
    "    else:\n",
    "        return (fibo(n - 1) + fibo(n - 2))\n",
    "\n",
    "print(fibo(2))"
   ]
  },
  {
   "cell_type": "code",
   "execution_count": 57,
   "metadata": {
    "pycharm": {
     "name": "#%%\n"
    }
   },
   "outputs": [
    {
     "name": "stdout",
     "output_type": "stream",
     "text": [
      "84\n"
     ]
    }
   ],
   "source": [
    "def stop(a: int) -> int:\n",
    "    k = 1\n",
    "    som = 0\n",
    "    while(som <= a):\n",
    "        som += 1/k\n",
    "        k += 1\n",
    "\n",
    "    return k\n",
    "\n",
    "print(stop(5))"
   ]
  }
 ],
 "metadata": {
  "kernelspec": {
   "display_name": "Python 3 (ipykernel)",
   "language": "python",
   "name": "python3"
  },
  "language_info": {
   "codemirror_mode": {
    "name": "ipython",
    "version": 3
   },
   "file_extension": ".py",
   "mimetype": "text/x-python",
   "name": "python",
   "nbconvert_exporter": "python",
   "pygments_lexer": "ipython3",
   "version": "3.10.4"
  }
 },
 "nbformat": 4,
 "nbformat_minor": 1
}