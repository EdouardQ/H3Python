{
 "cells": [
  {
   "cell_type": "code",
   "execution_count": 1,
   "outputs": [
    {
     "name": "stdout",
     "output_type": "stream",
     "text": [
      "positif\n"
     ]
    }
   ],
   "source": [
    "def condition_et_produit(x: int, y: int) -> str:\n",
    "    if not isinstance(x, int) or not isinstance(y, int):\n",
    "        return \"error input\"\n",
    "\n",
    "    if (x < 0 and y > 0) or (x > 0 and y < 0):\n",
    "        return \"negatif\"\n",
    "\n",
    "    return \"positif\"\n",
    "\n",
    "print(condition_et_produit(-5,-5))"
   ],
   "metadata": {
    "collapsed": false,
    "pycharm": {
     "name": "#%%\n"
    }
   }
  },
  {
   "cell_type": "code",
   "execution_count": 2,
   "outputs": [
    {
     "name": "stdout",
     "output_type": "stream",
     "text": [
      "15\n"
     ]
    }
   ],
   "source": [
    "def additivte(n: int) -> int:\n",
    "    if not isinstance(n, int):\n",
    "        return 0\n",
    "    result = 0\n",
    "    for i in range(1, n+1, 1):\n",
    "        result += i\n",
    "\n",
    "    return result\n",
    "\n",
    "print(additivte(5))"
   ],
   "metadata": {
    "collapsed": false,
    "pycharm": {
     "name": "#%%\n"
    }
   }
  },
  {
   "cell_type": "code",
   "execution_count": 3,
   "outputs": [
    {
     "name": "stdout",
     "output_type": "stream",
     "text": [
      "11\n"
     ]
    }
   ],
   "source": [
    "def somme_elements_tableau(tab: list) -> int:\n",
    "    result = 0\n",
    "    for i in tab:\n",
    "        result += i\n",
    "\n",
    "    return result\n",
    "\n",
    "print(somme_elements_tableau([1,5,5]))"
   ],
   "metadata": {
    "collapsed": false,
    "pycharm": {
     "name": "#%%\n"
    }
   }
  },
  {
   "cell_type": "code",
   "execution_count": 4,
   "outputs": [
    {
     "name": "stdout",
     "output_type": "stream",
     "text": [
      "231\n"
     ]
    }
   ],
   "source": [
    "def facproduct(tab1: list, tab2: list) -> int:\n",
    "    result = 0\n",
    "    for x in tab1:\n",
    "        for y in tab2:\n",
    "            result += x*y\n",
    "\n",
    "    return result\n",
    "\n",
    "print(facproduct([1,2,8], [8,9,4]))"
   ],
   "metadata": {
    "collapsed": false,
    "pycharm": {
     "name": "#%%\n"
    }
   }
  },
  {
   "cell_type": "code",
   "execution_count": 5,
   "outputs": [
    {
     "name": "stdout",
     "output_type": "stream",
     "text": [
      "(4, 97)\n"
     ]
    }
   ],
   "source": [
    "def plus_grand(tab: list) -> (int, int):\n",
    "    max = 0\n",
    "    index = -1\n",
    "\n",
    "    for i in range(0, len(tab)):\n",
    "        if tab[i] > max:\n",
    "            max = tab[i]\n",
    "            index = i\n",
    "\n",
    "    return (index, max)\n",
    "\n",
    "print(plus_grand([1,8,4,6,97,32]))"
   ],
   "metadata": {
    "collapsed": false,
    "pycharm": {
     "name": "#%%\n"
    }
   }
  },
  {
   "cell_type": "code",
   "execution_count": 6,
   "outputs": [
    {
     "name": "stdout",
     "output_type": "stream",
     "text": [
      "2\n"
     ]
    }
   ],
   "source": [
    "def plus_grand_moyen(tab: list) -> int:\n",
    "    moy = 0\n",
    "    nb = 0\n",
    "\n",
    "    for n in tab:\n",
    "        moy += n\n",
    "    moy = moy/len(tab)\n",
    "\n",
    "    for n in tab:\n",
    "        if n > moy:\n",
    "            nb += 1\n",
    "\n",
    "    return nb\n",
    "\n",
    "print(plus_grand_moyen([1,8,4,6,97,32]))"
   ],
   "metadata": {
    "collapsed": false,
    "pycharm": {
     "name": "#%%\n"
    }
   }
  },
  {
   "cell_type": "code",
   "execution_count": 7,
   "outputs": [
    {
     "name": "stdout",
     "output_type": "stream",
     "text": [
      "[8, 18, 32]\n"
     ]
    }
   ],
   "source": [
    "def mult_vect(tab1: list, tab2: list) -> list:\n",
    "    result = []\n",
    "\n",
    "    for i in range(0, len(tab1)):\n",
    "        result.append(tab1[i] * tab2[i])\n",
    "\n",
    "    return result\n",
    "\n",
    "print(mult_vect([1,2,8], [8,9,4]))"
   ],
   "metadata": {
    "collapsed": false,
    "pycharm": {
     "name": "#%%\n"
    }
   }
  },
  {
   "cell_type": "code",
   "execution_count": 8,
   "outputs": [
    {
     "name": "stdout",
     "output_type": "stream",
     "text": [
      "[1, 3, 5, 9]\n"
     ]
    }
   ],
   "source": [
    "def tris(tab: list) -> list:\n",
    "    sorted_tab = []\n",
    "\n",
    "    while len(tab) > 0:\n",
    "        index = 0\n",
    "        for i in range(0, len(tab)):\n",
    "            if tab[i] < tab[index]:\n",
    "                index = i\n",
    "        sorted_tab.append(tab[index])\n",
    "        tab.pop(index)\n",
    "\n",
    "    return sorted_tab\n",
    "\n",
    "print(tris([5,1,9,3]))"
   ],
   "metadata": {
    "collapsed": false,
    "pycharm": {
     "name": "#%%\n"
    }
   }
  },
  {
   "cell_type": "code",
   "execution_count": 9,
   "outputs": [
    {
     "name": "stdout",
     "output_type": "stream",
     "text": [
      "120\n"
     ]
    }
   ],
   "source": [
    "def fact(n: int) -> int:\n",
    "    result = 1\n",
    "    for i in range(1, n+1):\n",
    "        result = result * i\n",
    "\n",
    "    return result\n",
    "\n",
    "print(fact(5))"
   ],
   "metadata": {
    "collapsed": false,
    "pycharm": {
     "name": "#%%\n"
    }
   }
  },
  {
   "cell_type": "code",
   "execution_count": 2,
   "outputs": [
    {
     "name": "stdout",
     "output_type": "stream",
     "text": [
      "[[7, 10], [15, 22]]\n"
     ]
    }
   ],
   "source": [
    "def mult_mat(tab1: list, tab2: list) -> list:\n",
    "    result = []\n",
    "    n = len(tab1)\n",
    "    for x in range(n):\n",
    "        array = []\n",
    "        for y in range(n):\n",
    "            calc = 0\n",
    "            for z in range(n):\n",
    "                calc += tab1[x][z] * tab2[z][y]\n",
    "            array.append(calc)\n",
    "        result.append(array)\n",
    "\n",
    "    return result\n",
    "\n",
    "print(mult_mat([[1,2], [3, 4]], [[1,2], [3, 4]]))"
   ],
   "metadata": {
    "collapsed": false,
    "pycharm": {
     "name": "#%%\n"
    }
   }
  },
  {
   "cell_type": "code",
   "execution_count": 11,
   "outputs": [
    {
     "name": "stdout",
     "output_type": "stream",
     "text": [
      "8\n"
     ]
    }
   ],
   "source": [
    "def fibo_rec(n: int) -> int:\n",
    "    if n <= 1:\n",
    "        return n\n",
    "    else:\n",
    "        return fibo_rec(n - 1) + fibo_rec(n - 2)\n",
    "\n",
    "print(fibo_rec(6))"
   ],
   "metadata": {
    "collapsed": false,
    "pycharm": {
     "name": "#%%\n"
    }
   }
  },
  {
   "cell_type": "code",
   "execution_count": 12,
   "outputs": [
    {
     "name": "stdout",
     "output_type": "stream",
     "text": [
      "21\n",
      "{0: 0, 1: 1, 2: 1, 3: 2, 4: 3, 5: 5, 6: 8, 7: 13, 8: 21}\n"
     ]
    }
   ],
   "source": [
    "fibo_dict = {0:0, 1:1}\n",
    "def fibo(n: int) -> int:\n",
    "    if not n in fibo_dict:\n",
    "        fibo_dict[n] = fibo(n-1) + fibo(n-2)\n",
    "    return fibo_dict[n]\n",
    "\n",
    "print(fibo(8))\n",
    "print(fibo_dict)"
   ],
   "metadata": {
    "collapsed": false,
    "pycharm": {
     "name": "#%%\n"
    }
   }
  },
  {
   "cell_type": "code",
   "execution_count": 13,
   "outputs": [
    {
     "name": "stdout",
     "output_type": "stream",
     "text": [
      "83\n"
     ]
    }
   ],
   "source": [
    "def stop(a: int) -> int:\n",
    "    k = 0\n",
    "    som = 0\n",
    "    while(som <= a):\n",
    "        k += 1\n",
    "        som += 1/k\n",
    "\n",
    "    return k\n",
    "\n",
    "print(stop(5))"
   ],
   "metadata": {
    "collapsed": false,
    "pycharm": {
     "name": "#%%\n"
    }
   }
  },
  {
   "cell_type": "code",
   "execution_count": 14,
   "outputs": [
    {
     "name": "stdout",
     "output_type": "stream",
     "text": [
      "33\n"
     ]
    }
   ],
   "source": [
    "def max_non_adja(tab: list) -> int:\n",
    "    if not len(tab):\n",
    "        return 0\n",
    "    elif len(tab) == 1:\n",
    "        return tab[0]\n",
    "    elif len(tab) == 2:\n",
    "        if tab[0] > tab[1]:\n",
    "            return tab[0]\n",
    "        return tab [1]\n",
    "    elif len(tab) == 3:\n",
    "        if tab[0] + tab[2] > tab[1]:\n",
    "            return tab[0] + tab[2]\n",
    "        return tab [1]\n",
    "\n",
    "    tab_max = [tab[0], tab[1], tab[0] + tab[2]]\n",
    "\n",
    "    for i in range(3, len(tab)):\n",
    "        if tab_max[i-1] > tab[i] + tab_max[i-2]:\n",
    "            tab_max.append(tab_max[i-1])\n",
    "        else:\n",
    "            tab_max.append(tab[i] + tab_max[i-2])\n",
    "\n",
    "    return tab_max[-1]\n",
    "\n",
    "print(max_non_adja([7, 10, 12, 7, 9, 14]))"
   ],
   "metadata": {
    "collapsed": false,
    "pycharm": {
     "name": "#%%\n"
    }
   }
  },
  {
   "cell_type": "code",
   "execution_count": 1,
   "outputs": [
    {
     "name": "stdout",
     "output_type": "stream",
     "text": [
      "5\n"
     ]
    }
   ],
   "source": [
    "def levenshtein(a: str, b: str) -> int:\n",
    "    tab = []\n",
    "    for x in range(0, len(a)):\n",
    "        tab.append([x])\n",
    "        for y in range(1, len(b)):\n",
    "            tab[x].append(y)\n",
    "\n",
    "\n",
    "    for x in range(1, len(a)):\n",
    "        for y in range(1, len(b)):\n",
    "            if a[x-1] == b[y-1]:\n",
    "                cost = 0\n",
    "            else:\n",
    "                cost = 1\n",
    "\n",
    "            tab[x][y] = min(\n",
    "                tab[x-1][y]+1,\n",
    "                tab[x][y-1]+1,\n",
    "                tab[x-1][y-1]+cost\n",
    "            )\n",
    "\n",
    "    return tab[-1][-1]\n",
    "\n",
    "print(levenshtein(\"chien\", \"niche\"))"
   ],
   "metadata": {
    "collapsed": false,
    "pycharm": {
     "name": "#%%\n"
    }
   }
  }
 ],
 "metadata": {
  "kernelspec": {
   "display_name": "Python 3 (ipykernel)",
   "language": "python",
   "name": "python3"
  },
  "language_info": {
   "codemirror_mode": {
    "name": "ipython",
    "version": 3
   },
   "file_extension": ".py",
   "mimetype": "text/x-python",
   "name": "python",
   "nbconvert_exporter": "python",
   "pygments_lexer": "ipython3",
   "version": "3.10.4"
  }
 },
 "nbformat": 4,
 "nbformat_minor": 1
}